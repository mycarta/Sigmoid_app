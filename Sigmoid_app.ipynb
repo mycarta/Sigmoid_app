{
 "metadata": {
  "name": "",
  "signature": "sha256:f65c46e7b81a9a270aef71489e99c111c08ec6846bce71a25ab5aae898c41de6"
 },
 "nbformat": 3,
 "nbformat_minor": 0,
 "worksheets": [
  {
   "cells": [
    {
     "cell_type": "code",
     "collapsed": false,
     "input": [],
     "language": "python",
     "metadata": {},
     "outputs": []
    }
   ],
   "metadata": {}
  }
 ]
}