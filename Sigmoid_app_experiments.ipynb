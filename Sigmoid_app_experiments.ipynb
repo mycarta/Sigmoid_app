{
 "metadata": {
  "name": "",
  "signature": "sha256:474b6b55ba4b15f30381f1049863e68c9262545306b6d5c9a3d462323f8221ee"
 },
 "nbformat": 3,
 "nbformat_minor": 0,
 "worksheets": []
}