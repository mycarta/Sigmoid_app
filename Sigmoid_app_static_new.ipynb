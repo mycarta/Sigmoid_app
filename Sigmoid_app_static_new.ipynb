{
 "cells": [
  {
   "cell_type": "markdown",
   "metadata": {},
   "source": [
    "#### License"
   ]
  },
  {
   "cell_type": "markdown",
   "metadata": {},
   "source": [
    "<a rel=\"license\" href=\"http://creativecommons.org/licenses/by/4.0/\"><img alt=\"Creative Commons License\" style=\"border-width:0\" src=\"https://i.creativecommons.org/l/by/4.0/88x31.png\" /></a><br />This work is licensed under a <a rel=\"license\" href=\"http://creativecommons.org/licenses/by/4.0/\"> CC BY  - Creative Commons Attribution 4.0 International License</a>."
   ]
  },
  {
   "cell_type": "markdown",
   "metadata": {},
   "source": [
    "#### Preliminaries"
   ]
  },
  {
   "cell_type": "code",
   "execution_count": 1,
   "metadata": {},
   "outputs": [],
   "source": [
    "import numpy as np\n",
    "import matplotlib.pyplot as plt\n",
    "from ipywidgets import interact, interactive, FloatSlider\n",
    "from IPython.display import display\n",
    "import colorsys as csys\n",
    "import matplotlib.colors as clr"
   ]
  },
  {
   "cell_type": "markdown",
   "metadata": {},
   "source": [
    "#### Load data for seismic subplot"
   ]
  },
  {
   "cell_type": "markdown",
   "metadata": {},
   "source": [
    "This is one crossline from the [Penobscot 3D](https://terranubis.com/datainfo/Penobscot) ([CC BY-SA license](https://creativecommons.org/licenses/by-sa/3.0/))."
   ]
  },
  {
   "cell_type": "code",
   "execution_count": 2,
   "metadata": {},
   "outputs": [],
   "source": [
    "traces = np.loadtxt('PenobXL_1155.txt')\n",
    "traces = np.fliplr(np.transpose(traces)) # rearrange traces for plotting\n",
    "m=np.amin(traces)\n",
    "M=np.amax(traces)"
   ]
  },
  {
   "cell_type": "markdown",
   "metadata": {},
   "source": [
    "#### Helper functions"
   ]
  },
  {
   "cell_type": "code",
   "execution_count": 3,
   "metadata": {},
   "outputs": [],
   "source": [
    "def sigmoid(w):\n",
    "    \"\"\" \n",
    "    Makes a sigmoid curve; the center of the curve is fixed at 5.  \n",
    "    \n",
    "    Parameter:\n",
    "        w (int): the sigmoid width   \n",
    "        \n",
    "    Returns:\n",
    "        sgm (array): the 1D sigmoid curve\n",
    "    \"\"\"\n",
    "    x = np.linspace(0,10,256) # range = 0-10\n",
    "    sgm = 1/(1+np.exp(-(x-5)/(w+0.001)))     # sigmoid curve (+0.001 to avoid dividing by w=0)\n",
    "    sgm = (sgm-min(sgm))/(max(sgm)-min(sgm)) # normalize so y is in range 0-1\n",
    "    return sgm                               # this is used as Lightnes in the rgb_sigmoid function\n",
    "\n",
    "\n",
    "def rgb_sigmoid(sgm):\n",
    "    \"\"\" \n",
    "    Makes an RGB array of size 256x3, which can then be plotted as rectuangular colorbar image.\n",
    "    \n",
    "    Parameters:\n",
    "        sgm (array): sigmoid 1D curve. Can be output of sigmoid function   \n",
    "    \n",
    "    Returns:\n",
    "        rgb_sigmoid (array): the 256x3 RGB array\n",
    "    \"\"\"\n",
    "    h = np.zeros(256)\n",
    "    s = np.zeros(256)\n",
    "    hls_sigm = np.array(list(zip(h, sgm, s))) # Hue-Lightness-Saturation sigmoid array\n",
    "    # next block to convert sigmoid array from HLS to RGB \n",
    "    rgb_sigm = []\n",
    "    for hls_val in hls_sigm:\n",
    "        h,l,s = hls_val\n",
    "        temp = csys.hls_to_rgb(h, l, s)\n",
    "        rgb_sigm.append(temp)\n",
    "    rgb_sigm= np.array(rgb_sigm)\n",
    "    rgb_sigmoid = np.array(list(zip(rgb_sigm[:,0], rgb_sigm[:,1], rgb_sigm[:,2]))) \n",
    "    return rgb_sigmoid\n",
    "\n",
    "\n",
    "def rgb_cmap(rgb_sigmoid):\n",
    "    \"\"\" \n",
    "    Makes a Matplotlib LinearSegmentedColormap RGB sigmoid grayscale\n",
    "    \n",
    "    Parameters:\n",
    "        rgb_sigmoid (array): sigmoid RGB array. Can be output of rgb_sigmoid function   \n",
    "    \n",
    "    Returns:\n",
    "        my_sigmoid_cmap: LinearSegmentedColormap\n",
    "    \"\"\"\n",
    "    r3=r2=rgb_sigmoid[:,0] # value of red at sample n\n",
    "    r1=np.linspace(0,1,len(r2)) # position of sample n - ranges from 0 to 1\n",
    "    g3=g2=rgb_sigmoid[:,1]\n",
    "    g1=np.linspace(0,1,len(g2))\n",
    "    b3=b2=rgb_sigmoid[:,2]\n",
    "    b1=np.linspace(0,1,len(b2)) \n",
    "    r=zip(r1,r2,r3) # red list\n",
    "    g=zip(g1,g2,g3) # green list\n",
    "    b=zip(b1,b2,b3) # blue list\n",
    "    rgb_=zip(r,g,b) # creating final list\n",
    "    rgb=zip(*rgb_)  # transposing list\n",
    "    k=['red', 'green', 'blue'] # keys\n",
    "    sigmoid_gray=dict(zip(k,rgb)) # makes a dictionary for LinearSegmentedColormap\n",
    "    my_sigmoid_cmap = clr.LinearSegmentedColormap('my_colormap',sigmoid_gray)\n",
    "    return my_sigmoid_cmap"
   ]
  },
  {
   "cell_type": "markdown",
   "metadata": {},
   "source": [
    "#### Interactive colormap"
   ]
  },
  {
   "cell_type": "markdown",
   "metadata": {},
   "source": [
    "First define the function to do all the interactive plotting and also output array."
   ]
  },
  {
   "cell_type": "code",
   "execution_count": 4,
   "metadata": {},
   "outputs": [],
   "source": [
    "def sigmoid_demo(w):  \n",
    "    \"\"\"This makes an interactive figure where the parameter w - the width of the \n",
    "    sigmoid curve - is controlled by a slider. Stepping through values of w will show,\n",
    "    in 4 different plots respectively, the changes in:\n",
    "    - the shape of the sigmoid curve\n",
    "    - the resulting colormap plotted as rectangular colorbar image\n",
    "    - the colormap lightness contrast in the central portion of the colormap\n",
    "    - the effect on a seismic vertical section\"\"\"\n",
    "   \n",
    "    # set up variables\n",
    "    xspl = np.linspace(0,256,256)           # Sample number of colormap\n",
    "    sn = sigmoid(w)                         # Lightness in the range 0-1\n",
    "    snc = sn*100                            # Lightness in the range 0-100\n",
    "    ctr = (snc[128] - snc[127])             # Lightness contrast value\n",
    "    rgb_sigm = rgb_sigmoid(sn)              # RGB sigmoid array\n",
    "    my_sigmoid_cmap = rgb_cmap(rgb_sigm)    # Linear Segmented (sigmoid) Colormap\n",
    "   \n",
    "    # set up figure\n",
    "    fig = plt.figure(figsize=(20,18))\n",
    "    \n",
    "    #  sigmoid subplot\n",
    "    ax1 = plt.subplot2grid((8,5), (0,0),colspan=2, rowspan = 1)\n",
    "    plt.plot(xspl,snc,lw=2,color='black') # lightness in the range 0-100\n",
    "    plt.xlim(xspl.min(), xspl.max())\n",
    "    plt.ylim(0, 100)\n",
    "    ax1.set_ylabel('Lightness', fontsize = '12')\n",
    "    ax1.tick_params(axis='both', which='major', labelsize=10)\n",
    "    ax1.set_xlabel('Colormap sample number', fontsize = '12' )\n",
    "    \n",
    "    # colorbar subplot\n",
    "    ax2 = plt.subplot2grid((8,5), (1,0),colspan=2, rowspan = 2)\n",
    "    ax2.set_yticks([])\n",
    "    plt.imshow([rgb_sigm], interpolation = 'none', cmap = 'gray', aspect = 70)\n",
    "    ax2.set_xlabel('Colormap sample number', fontsize = '12' )\n",
    "    ax2.tick_params(axis='both', which='major', labelsize=10)\n",
    "        \n",
    "    # textbox plots of contrast value in the center of the colormap\n",
    "    ax3 = plt.subplot2grid((8,5), (4,0), colspan=1, rowspan = 1)\n",
    "    ax3.set_axis_off()\n",
    "    bbox_props = dict(boxstyle=\"square, pad=0.5\", fc=\"white\", ec=\"0.5\")\n",
    "    ax3.text(0.65, 2, 'Lightness contrast = {0:.2f}'.format(ctr), ha=\"center\", \n",
    "                 va=\"center\", size=18, bbox=bbox_props)\n",
    "       \n",
    "    # seismic subplot\n",
    "    ax4 = plt.subplot2grid((8,5), (0,2),colspan = 3, rowspan = 5)\n",
    "    plt.imshow(traces[:750,100:], vmin=m, vmax=M, cmap = my_sigmoid_cmap, aspect = 0.5)\n",
    "    ax4.set_xticks([])\n",
    "    ax4.set_yticks([])\n",
    "    \n",
    "    plt.show()\n",
    "    \n",
    "    return rgb_sigm # this is used as output array"
   ]
  },
  {
   "cell_type": "markdown",
   "metadata": {},
   "source": [
    "Second, call the function and display the interactive plots."
   ]
  },
  {
   "cell_type": "code",
   "execution_count": 5,
   "metadata": {},
   "outputs": [],
   "source": [
    "np.seterr(over='ignore')\n",
    "rslt = interactive(sigmoid_demo, w=FloatSlider(min=-2.7, max=2.7, step=0.1, value = 1))"
   ]
  },
  {
   "cell_type": "code",
   "execution_count": 6,
   "metadata": {},
   "outputs": [
    {
     "data": {
      "application/vnd.jupyter.widget-view+json": {
       "model_id": "67569c5411ff407f8465021abcbbca11",
       "version_major": 2,
       "version_minor": 0
      },
      "text/plain": [
       "interactive(children=(FloatSlider(value=1.0, description='w', max=2.7, min=-2.7), Output()), _dom_classes=('wi…"
      ]
     },
     "metadata": {},
     "output_type": "display_data"
    }
   ],
   "source": [
    "display(rslt)"
   ]
  },
  {
   "cell_type": "markdown",
   "metadata": {},
   "source": [
    "#### Access and save the resulting colormap array"
   ]
  },
  {
   "cell_type": "markdown",
   "metadata": {},
   "source": [
    "Using interactive instead of interact makes it possible to access the returned array in later cells, see:\n",
    "https://ipywidgets.readthedocs.io/en/latest/examples/Using%20Interact.html#interactive"
   ]
  },
  {
   "cell_type": "code",
   "execution_count": 7,
   "metadata": {},
   "outputs": [],
   "source": [
    "#print(rslt.result[:5])"
   ]
  },
  {
   "cell_type": "code",
   "execution_count": 8,
   "metadata": {},
   "outputs": [],
   "source": [
    "save_sigmoid_gray = np.round(rslt.result, decimals=4)"
   ]
  },
  {
   "cell_type": "code",
   "execution_count": 9,
   "metadata": {},
   "outputs": [
    {
     "name": "stdout",
     "output_type": "stream",
     "text": [
      "[[0.     0.     0.    ]\n",
      " [0.0003 0.0003 0.0003]\n",
      " [0.0006 0.0006 0.0006]\n",
      " [0.0008 0.0008 0.0008]\n",
      " [0.0011 0.0011 0.0011]]\n"
     ]
    }
   ],
   "source": [
    "print(save_sigmoid_gray[:5])"
   ]
  },
  {
   "cell_type": "code",
   "execution_count": 10,
   "metadata": {},
   "outputs": [],
   "source": [
    "#np.savetxt('rgb_sigmoid_grays.txt',save_sigmoid_gray,delimiter=',', fmt='%1.4f')"
   ]
  }
 ],
 "metadata": {
  "anaconda-cloud": {},
  "kernelspec": {
   "display_name": "Python [conda env:py36]",
   "language": "python",
   "name": "conda-env-py36-py"
  },
  "language_info": {
   "codemirror_mode": {
    "name": "ipython",
    "version": 3
   },
   "file_extension": ".py",
   "mimetype": "text/x-python",
   "name": "python",
   "nbconvert_exporter": "python",
   "pygments_lexer": "ipython3",
   "version": "3.6.8"
  }
 },
 "nbformat": 4,
 "nbformat_minor": 2
}
