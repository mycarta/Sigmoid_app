{
 "cells": [
  {
   "cell_type": "code",
   "execution_count": 1,
   "metadata": {},
   "outputs": [],
   "source": [
    "import numpy as np"
   ]
  },
  {
   "cell_type": "code",
   "execution_count": 2,
   "metadata": {},
   "outputs": [],
   "source": [
    "# data for seismic subplot\n",
    "traces = np.loadtxt('PenobXL_1155.txt')\n",
    "traces = np.fliplr(np.transpose(traces)) # rearrange traces for plotting\n",
    "m=np.amin(traces)\n",
    "M=np.amax(traces)"
   ]
  },
  {
   "cell_type": "code",
   "execution_count": 3,
   "metadata": {},
   "outputs": [],
   "source": [
    "%%capture\n",
    "%matplotlib inline\n",
    "\n",
    "import matplotlib.pyplot as plt\n",
    "from ipywidgets import interact, FloatSlider\n",
    "import ipywidgets as widgets\n",
    "import colorsys as csys\n",
    "import matplotlib.colors as clr\n",
    "\n",
    "def sigmoid_demo(w):\n",
    "    x = np.linspace(0,10,256)  # x coordinate for sigmoid curve\n",
    "    sgm = 1/(1+np.exp(-(x-5)/(w+0.001)))     # sigmoid curve of length = 10, center = 5, width ~ w\n",
    "                                             # +0.001 added to avoid dividing by w=0\n",
    "    sgm = (sgm-min(sgm))/(max(sgm)-min(sgm)) # normalize so sigmoid is always in range 0-1\n",
    "                                             # this is used as Lightness\n",
    "        \n",
    "    # for colorbar subplot\n",
    "    h = np.zeros(256)\n",
    "    s = np.zeros(256)\n",
    "    hls_sigm = np.array(list(zip(h, sgm, s))) # Hue-Lightness-Saturation sigmoid colormap\n",
    "    # next block to convert sigmoid colormap from HLS to RGB \n",
    "    rgb_sigm = []\n",
    "    for hls_val in hls_sigm:\n",
    "        h,l,s = hls_val\n",
    "        temp = csys.hls_to_rgb(h, l, s)\n",
    "        rgb_sigm.append(temp)\n",
    "    rgb_sigm= np.array(rgb_sigm)\n",
    "    rgb_sigmoid = np.array(list(zip(rgb_sigm[:,0], rgb_sigm[:,1], rgb_sigm[:,2]))) \n",
    "    \n",
    "    # matplotlib RGB sigmoid colormap (LinearSegmentedColormap) for seismic subplot\n",
    "    r3=r2=rgb_sigm[:,0] # value of red at sample n\n",
    "    r1=np.linspace(0,1,len(r2)) # position of sample n - ranges from 0 to 1\n",
    "    g3=g2=rgb_sigm[:,1]\n",
    "    g1=np.linspace(0,1,len(g2))\n",
    "    b3=b2=rgb_sigm[:,2]\n",
    "    b1=np.linspace(0,1,len(b2)) \n",
    "    r=zip(r1,r2,r3) # red list\n",
    "    g=zip(g1,g2,g3) # green list\n",
    "    b=zip(b1,b2,b3) # blue list\n",
    "    rgb_=zip(r,g,b) # creating final list\n",
    "    rgb=zip(*rgb_)  # transposing list\n",
    "    k=['red', 'green', 'blue'] # keys\n",
    "    sigmoid_gray=dict(zip(k,rgb)) # makes a dictionary for LinearSegmentedColormap\n",
    "    my_sigmoid_cmap = clr.LinearSegmentedColormap('my_colormap',sigmoid_gray)\n",
    "       \n",
    "    # plot everything\n",
    "    fig = plt.figure(figsize=(20,18))\n",
    "     \n",
    "    # coordinates for sigmoid and colorbar subplots\n",
    "    xspl = np.linspace(0,256,256) # sample number \n",
    "    sn = sgm*100                  # lightness in the range 0-100\n",
    "    \n",
    "    #  sigmoid subplot\n",
    "    ax1 = plt.subplot2grid((8,5), (0,0),colspan=2, rowspan = 1)\n",
    "    ax1.set_xticks([])\n",
    "    plt.plot(xspl,sn,lw=2,color='black')\n",
    "    plt.xlim(xspl.min(), xspl.max())\n",
    "    plt.ylim(0, 100)\n",
    "    ax1.set_ylabel('Lightness', fontsize = '12')\n",
    "    ax1.tick_params(axis='both', which='major', labelsize=10)\n",
    "    ax1.set_xlabel('Colormap sample number', fontsize = '12' )\n",
    "    \n",
    "    # colorbar subplot\n",
    "    ax2 = plt.subplot2grid((8,5), (1,0),colspan=2, rowspan = 2)\n",
    "    ax2.set_yticks([])\n",
    "    plt.imshow([rgb_sigmoid], interpolation = 'none', cmap = 'gray', aspect = 70)\n",
    "    ax2.set_xlabel('Colormap sample number', fontsize = '12' )\n",
    "    ax2.tick_params(axis='both', which='major', labelsize=10)\n",
    "    \n",
    "      \n",
    "    # plot contrast value and w parameter value\n",
    "    ctr = (sn[128]-sn[127]) # contrast value\n",
    "    ax3 = plt.subplot2grid((8,5), (4,0),colspan=1, rowspan = 1)\n",
    "    ax3.set_axis_off()\n",
    "    bbox_props = dict(boxstyle=\"square, pad=0.5\", fc=\"white\", ec=\"0.5\")\n",
    "    ax3.text(0.4, 0.4, 'Lightness contrast = {0:.2f}'.format(ctr), ha=\"center\", \n",
    "                 va=\"center\", size=12, bbox=bbox_props)\n",
    "    ax3.text(0.27, 0, 'w parameter = {0:.2f}'.format(w), ha=\"center\", \n",
    "                 va=\"center\", size=12, bbox=bbox_props)\n",
    "       \n",
    "    # seismic subplot\n",
    "    ax4 = plt.subplot2grid((8,5), (0,2),colspan = 3, rowspan = 5)\n",
    "    plt.imshow(traces[:750,100:], vmin=m, vmax=M, cmap = my_sigmoid_cmap,aspect = 0.5)\n",
    "    ax4.set_xticks([])\n",
    "    ax4.set_yticks([])\n",
    "    \n",
    "    plt.show()"
   ]
  },
  {
   "cell_type": "code",
   "execution_count": 4,
   "metadata": {},
   "outputs": [
    {
     "data": {
      "application/vnd.jupyter.widget-view+json": {
       "model_id": "ce889ae587c64b4c9d6f0954aca43dd9",
       "version_major": 2,
       "version_minor": 0
      },
      "text/plain": [
       "interactive(children=(FloatSlider(value=1.0, description='w', max=2.7, min=-2.7), Output()), _dom_classes=('wi…"
      ]
     },
     "metadata": {},
     "output_type": "display_data"
    }
   ],
   "source": [
    "np.seterr(over='ignore')\n",
    "interact(sigmoid_demo, w=FloatSlider(min=-2.7, max=2.7, step=0.1, value = 1));"
   ]
  }
 ],
 "metadata": {
  "anaconda-cloud": {},
  "kernelspec": {
   "display_name": "Python 3",
   "language": "python",
   "name": "python3"
  },
  "language_info": {
   "codemirror_mode": {
    "name": "ipython",
    "version": 3
   },
   "file_extension": ".py",
   "mimetype": "text/x-python",
   "name": "python",
   "nbconvert_exporter": "python",
   "pygments_lexer": "ipython3",
   "version": "3.7.3"
  }
 },
 "nbformat": 4,
 "nbformat_minor": 2
}
